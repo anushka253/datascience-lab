{
 "cells": [
  {
   "cell_type": "code",
   "execution_count": null,
   "metadata": {},
   "outputs": [],
   "source": [
    "# 1.  Write  a  NumPy  program  to  create  an  element-wise  comparison  (greater,  greater_equal,  less  and less_equal)  of  two  given  arrays.\n",
    "# 2.  Write  a  NumPy  program  to  create  an  array  of  all  the  even  integers  from  30  to  70.\n",
    "# 3.  Write  a  NumPy  program  to  create  a  3x3  identity  matrix.\n",
    "# 4.  Write  a  NumPy  program  to  create  a  vector  with  values  from  0  to  20  and  change  the  sign  of the  numbers  in  the  range  from  9  to  15.\n",
    "# 5.  Write  a  NumPy  program  to  create  a  5x5  zero  matrix  with  elements  on  the  main  diagonal equal  to  1,  2,  3,  4,  5.\n",
    "# 6.  Write  a  NumPy  program  to  compute  sum  of  all  elements,  sum  of  each  column  and  sum  of each  row  of  a  given  array.\n",
    "# 7.  Write  a  NumPy  program  to  save  a  given  array  to  a  text  file  and  load  it.\n",
    "# 8.  Write  a  NumPy  program  to  check  whether  two  arrays  are  equal  (element  wise)  or  not.\n",
    "# 9.  Write  a  NumPy  program  to  create  a  4x4  array  with  random  values,  now  create  a  new  array from  the  said  array  swapping  first  and  last  rows.\n",
    "# 10.  Write  a  NumPy  program  to  multiply  two  given  arrays  of  same  size  element-by-element"
   ]
  },
  {
   "cell_type": "code",
   "execution_count": 1,
   "metadata": {},
   "outputs": [],
   "source": [
    "import numpy as np"
   ]
  },
  {
   "cell_type": "code",
   "execution_count": 2,
   "metadata": {},
   "outputs": [
    {
     "name": "stdout",
     "output_type": "stream",
     "text": [
      "chech greater:\n",
      "[False False False]\n",
      "[ True False False]\n",
      "[False  True  True]\n",
      "[ True  True  True]\n"
     ]
    }
   ],
   "source": [
    "# 1.element-wise  comparison  (greater,  greater_equal,  less  and less_equal)  of  two  given  arrays.\n",
    "x=np.array([1,2,3])\n",
    "y=np.array([1,5,6])\n",
    "print(\"chech greater:\")\n",
    "print(np.greater(x,y))\n",
    "print(np.greater_equal(x,y))\n",
    "print(np.less(x,y))\n",
    "print(np.less_equal(x,y))\n",
    "\n",
    "# greater: Returns an array with the truth value of (x1 > x2) element-wise.\n",
    "# greater_equal: Returns an array with the truth value of (x1 >= x2) element-wise.\n",
    "# less: Returns an array with the truth value of (x1 < x2) element-wise.\n",
    "# less_equal: Returns an array with the truth value of (x1 <= x2) element-wise.\n",
    "\n"
   ]
  },
  {
   "cell_type": "code",
   "execution_count": 7,
   "metadata": {},
   "outputs": [
    {
     "name": "stdout",
     "output_type": "stream",
     "text": [
      "['qq', 'ww', 'f']\n"
     ]
    }
   ],
   "source": [
    "x=[]\n",
    "x=input(\"enter:\").split()\n",
    "print(x)"
   ]
  },
  {
   "cell_type": "code",
   "execution_count": 8,
   "metadata": {},
   "outputs": [
    {
     "name": "stdout",
     "output_type": "stream",
     "text": [
      "[1, 2, 3]\n"
     ]
    }
   ],
   "source": [
    "x=list(map(int,input().split()))\n",
    "print(x)\n"
   ]
  },
  {
   "cell_type": "code",
   "execution_count": 9,
   "metadata": {},
   "outputs": [
    {
     "name": "stdout",
     "output_type": "stream",
     "text": [
      "[30 32 34 36 38 40 42 44 46 48 50 52 54 56 58 60 62 64 66 68 70]\n"
     ]
    }
   ],
   "source": [
    "# 2. create  an  array  of  all  the  even  integers  from  30  to  70.\n",
    "x=np.arange(30,71,2)\n",
    "print(x)\n",
    "\n",
    "\n",
    "# arange() is a function in the NumPy library that returns an array with evenly spaced values within a given interval.\n",
    "# numpy.arange([start, ]stop, [step, ]dtype=None)\n",
    "# The function takes a start and stop value, along with an optional step size,\n",
    "#  and returns an array with evenly spaced values between the start and stop values."
   ]
  },
  {
   "cell_type": "code",
   "execution_count": 12,
   "metadata": {},
   "outputs": [
    {
     "name": "stdout",
     "output_type": "stream",
     "text": [
      "[[1. 0. 0. 0.]\n",
      " [0. 1. 0. 0.]\n",
      " [0. 0. 1. 0.]\n",
      " [0. 0. 0. 1.]]\n"
     ]
    }
   ],
   "source": [
    "# 3. create  a  3x3  identity  matrix.\n",
    "x=np.identity(4)\n",
    "print(x)\n",
    "\n",
    "# identity() is a function in the NumPy library that returns a square array with ones on the main diagonal and zeros elsewhere. \n",
    "# The function takes an integer argument n which specifies the number of rows (and columns) in the output array."
   ]
  },
  {
   "cell_type": "code",
   "execution_count": 15,
   "metadata": {},
   "outputs": [
    {
     "name": "stdout",
     "output_type": "stream",
     "text": [
      "[  0   1   2   3   4   5   6   7   8  -9 -10 -11 -12 -13 -14 -15  16  17\n",
      "  18  19  20]\n"
     ]
    }
   ],
   "source": [
    "# 4.  Write  a  NumPy  program  to  create  a  vector  with  values  from  0  to  20  and  change  the  sign  of the  numbers  in  the  range  from  9  to  15.\n",
    "\n",
    "x=np.arange(21)\n",
    "x[9:16] *= -1\n",
    "print(x)"
   ]
  },
  {
   "cell_type": "code",
   "execution_count": 25,
   "metadata": {},
   "outputs": [
    {
     "name": "stdout",
     "output_type": "stream",
     "text": [
      "[[0 0 0]\n",
      " [0 4 0]\n",
      " [0 0 8]]\n",
      "[[0. 0. 0. 0. 0.]\n",
      " [0. 0. 0. 0. 0.]\n",
      " [0. 0. 0. 0. 0.]\n",
      " [0. 0. 0. 0. 0.]\n",
      " [0. 0. 0. 0. 0.]]\n",
      "[0. 0. 0. 0.]\n"
     ]
    }
   ],
   "source": [
    "# 5.  Write  a  NumPy  program  to  create  a  5x5  zero  matrix  with  elements  on  the  main  diagonal equal  to  1,  2,  3,  4,  5.\n",
    "x=np.zeros((5,5))#for 2d\n",
    "y=np.zeros(4)#for 1d\n",
    "z=np.arange(0,9).reshape(3,3)\n",
    "print(np.diag(np.diag(z)))\n",
    "print(x)\n",
    "print(y)\n"
   ]
  },
  {
   "cell_type": "code",
   "execution_count": 22,
   "metadata": {},
   "outputs": [
    {
     "name": "stdout",
     "output_type": "stream",
     "text": [
      "[[1 0 0]\n",
      " [0 2 0]\n",
      " [0 0 3]]\n"
     ]
    }
   ],
   "source": [
    "\n",
    "x=np.diag([1,2,3])#a3x3 matrix with diagnol these and all others zeros.\n",
    "print(x)"
   ]
  },
  {
   "cell_type": "code",
   "execution_count": 33,
   "metadata": {},
   "outputs": [
    {
     "name": "stdout",
     "output_type": "stream",
     "text": [
      "array=\n",
      "[[0 1]\n",
      " [2 3]\n",
      " [4 5]\n",
      " [6 7]\n",
      " [8 9]]\n",
      "sum=\n",
      "45\n",
      "sum on row=\n",
      "[20 25]\n",
      "sum on col = [ 1  5  9 13 17]\n"
     ]
    }
   ],
   "source": [
    "# 6.  Write  a  NumPy  program  to  compute  sum  of  all  elements,  sum  of  each  column  and  sum  of each  row  of  a  given  array.\n",
    "x=np.arange(10).reshape(5,2)\n",
    "print(\"array=\")\n",
    "print(x)\n",
    "print(\"sum=\")\n",
    "print(np.sum(x))\n",
    "print(\"sum on row=\")\n",
    "print(np.sum(x,axis=0))\n",
    "print(\"sum on col =\",np.sum(x,axis=1))"
   ]
  },
  {
   "cell_type": "code",
   "execution_count": 36,
   "metadata": {},
   "outputs": [
    {
     "name": "stdout",
     "output_type": "stream",
     "text": [
      "[[0. 1.]\n",
      " [2. 3.]\n",
      " [4. 5.]\n",
      " [6. 7.]\n",
      " [8. 9.]]\n"
     ]
    }
   ],
   "source": [
    "# 7.  Write  a  NumPy  program  to  save  a  given  array  to  a  text  file  and  load  it.\n",
    "x=np.arange(10).reshape(5,2)\n",
    "np.savetxt('ary.txt',x)\n",
    "y=np.loadtxt('ary.txt')\n",
    "print(y)"
   ]
  },
  {
   "cell_type": "code",
   "execution_count": 48,
   "metadata": {},
   "outputs": [
    {
     "name": "stdout",
     "output_type": "stream",
     "text": [
      "True\n"
     ]
    }
   ],
   "source": [
    "# 8.  Write  a  NumPy  program  to  check  whether  two  arrays  are  equal  (element  wise)  or  not.\n",
    "x=np.array([1,2,3])\n",
    "y=np.array([1,2,3])\n",
    "print(np.array_equal(x, y))"
   ]
  },
  {
   "cell_type": "code",
   "execution_count": 55,
   "metadata": {},
   "outputs": [
    {
     "name": "stdout",
     "output_type": "stream",
     "text": [
      "[[0 1 2 3 4]\n",
      " [5 6 7 8 9]]\n",
      "[[5 6 7 8 9]\n",
      " [0 1 2 3 4]]\n"
     ]
    }
   ],
   "source": [
    "# 9.  Write  a  NumPy  program  to  create  a  4x4  array  with  random  values,  now  create  a  new  array from  the  said  array  swapping  first  and  last  rows.\n",
    "#swap!\n",
    "x= np.arange(10).reshape(2,5)\n",
    "print(x)\n",
    "x[[0,1]]=x[[1,0]]#double bracket\n",
    "print(x)"
   ]
  },
  {
   "cell_type": "code",
   "execution_count": 58,
   "metadata": {},
   "outputs": [
    {
     "name": "stdout",
     "output_type": "stream",
     "text": [
      "[0 1 2 3]\n",
      "[4 5 6 7]\n",
      "[ 0  5 12 21]\n"
     ]
    }
   ],
   "source": [
    "# 10.  Write  a  NumPy  program  to  multiply  two  given  arrays  of  same  size  element-by-element\n",
    "x=np.arange(4)\n",
    "print(x)\n",
    "y=np.arange(4,8)\n",
    "print(y)\n",
    "z=x*y\n",
    "print(z)\n"
   ]
  },
  {
   "cell_type": "code",
   "execution_count": null,
   "metadata": {},
   "outputs": [],
   "source": []
  }
 ],
 "metadata": {
  "kernelspec": {
   "display_name": "Python 3",
   "language": "python",
   "name": "python3"
  },
  "language_info": {
   "codemirror_mode": {
    "name": "ipython",
    "version": 3
   },
   "file_extension": ".py",
   "mimetype": "text/x-python",
   "name": "python",
   "nbconvert_exporter": "python",
   "pygments_lexer": "ipython3",
   "version": "3.12.0"
  }
 },
 "nbformat": 4,
 "nbformat_minor": 2
}
