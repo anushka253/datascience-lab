{
 "cells": [
  {
   "cell_type": "code",
   "execution_count": 9,
   "metadata": {},
   "outputs": [
    {
     "name": "stdout",
     "output_type": "stream",
     "text": [
      "95.23809523809523\n",
      "['versicolor']\n"
     ]
    }
   ],
   "source": [
    "from sklearn import datasets\n",
    "from sklearn import naive_bayes\n",
    "from sklearn.model_selection import train_test_split\n",
    "from sklearn.metrics import accuracy_score\n",
    "df=datasets.load_iris()\n",
    "x=df.data\n",
    "y=df.target\n",
    "\n",
    "x_test,x_train,y_test,y_train=train_test_split(x,y,train_size=0.7)\n",
    "\n",
    "c=naive_bayes.GaussianNB()\n",
    "c.fit(x_train,y_train)\n",
    "\n",
    "r=c.predict(x_test)\n",
    "print(accuracy_score(r,y_test)*100)\n",
    "\n",
    "f=[[int(i) for i in input(\"enter 4\").split()]]\n",
    "z=c.predict(f)\n",
    "print(df['target_names'][z])\n"
   ]
  },
  {
   "cell_type": "code",
   "execution_count": null,
   "metadata": {},
   "outputs": [],
   "source": [
    "from sklearn import naive_bayes\n",
    "c=naive_bayes.GaussianNB()"
   ]
  },
  {
   "cell_type": "code",
   "execution_count": 25,
   "metadata": {},
   "outputs": [
    {
     "name": "stdout",
     "output_type": "stream",
     "text": [
      "0.6858736059479554\n",
      "no\n"
     ]
    },
    {
     "name": "stderr",
     "output_type": "stream",
     "text": [
      "c:\\Users\\user\\AppData\\Local\\Programs\\Python\\Python312\\Lib\\site-packages\\sklearn\\base.py:465: UserWarning: X does not have valid feature names, but GaussianNB was fitted with feature names\n",
      "  warnings.warn(\n"
     ]
    }
   ],
   "source": [
    "from sklearn.model_selection import train_test_split\n",
    "from sklearn.metrics import accuracy_score\n",
    "from sklearn import naive_bayes\n",
    "import pandas as pd\n",
    "df=pd.read_csv(\"diabetes.csv\")\n",
    "x=df[['BMI','Age']]#df!\n",
    "y=df['Outcome']\n",
    "\n",
    "x_train,x_test,y_train,y_test=train_test_split(x,y,train_size=0.3)#order is important\n",
    "\n",
    "c=naive_bayes.GaussianNB()\n",
    "c.fit(x_train, y_train)\n",
    "\n",
    "r=c.predict(x_test)\n",
    "print(accuracy_score(y_test,r))\n",
    "\n",
    "f=[[int(i) for i in input(\"Enter 2\").split()]]\n",
    "z=c.predict(f)\n",
    "\n",
    "if z==0:\n",
    "    print(\"no\")\n",
    "else:\n",
    "    print(\"dddd\")\n",
    "\n"
   ]
  },
  {
   "cell_type": "code",
   "execution_count": 22,
   "metadata": {},
   "outputs": [
    {
     "name": "stdout",
     "output_type": "stream",
     "text": [
      "1.0\n",
      "hjh\n",
      "100.0\n"
     ]
    },
    {
     "name": "stdout",
     "output_type": "stream",
     "text": [
      "N\n"
     ]
    },
    {
     "name": "stderr",
     "output_type": "stream",
     "text": [
      "c:\\Users\\user\\AppData\\Local\\Programs\\Python\\Python312\\Lib\\site-packages\\sklearn\\base.py:465: UserWarning: X does not have valid feature names, but GaussianNB was fitted with feature names\n",
      "  warnings.warn(\n"
     ]
    }
   ],
   "source": [
    "from sklearn import naive_bayes\n",
    "import pandas as pd\n",
    "\n",
    "df=pd.read_csv(\"diabs.csv\")\n",
    "x=df[[\"BMI\",\"Age\"]]#df!\n",
    "y=df[\"Sugar\"]\n",
    "\n",
    "c=naive_bayes.GaussianNB()\n",
    "c.fit(x,y)\n",
    "print(c.score(x,y))\n",
    "z=c.predict(x)\n",
    "print(\"hjh\")\n",
    "print(accuracy_score(z,y)*100)\n",
    "\n",
    "\n",
    "f=[[int(i) for i in input(\"enter 2 \").split()]]\n",
    "\n",
    "r=c.predict(f)\n",
    "\n",
    "if r==0:\n",
    "    print(\"d\")\n",
    "else:\n",
    "    print(\"N\")"
   ]
  },
  {
   "cell_type": "code",
   "execution_count": 15,
   "metadata": {},
   "outputs": [
    {
     "name": "stdout",
     "output_type": "stream",
     "text": [
      "0.6877323420074349\n",
      "no\n"
     ]
    },
    {
     "name": "stderr",
     "output_type": "stream",
     "text": [
      "c:\\Users\\user\\AppData\\Local\\Programs\\Python\\Python312\\Lib\\site-packages\\sklearn\\base.py:465: UserWarning: X does not have valid feature names, but GaussianNB was fitted with feature names\n",
      "  warnings.warn(\n"
     ]
    }
   ],
   "source": [
    "import pandas as pd\n",
    "from sklearn import naive_bayes\n",
    "from sklearn.model_selection import train_test_split\n",
    "\n",
    "df = pd.read_csv('diabetes.csv')\n",
    "x = df[['BMI', 'Age']].astype(float)\n",
    "y = df['Outcome']\n",
    "\n",
    "x_train, x_test, y_train, y_test = train_test_split(x, y, train_size=0.3)\n",
    "\n",
    "c = naive_bayes.GaussianNB()\n",
    "c.fit(x_train, y_train)\n",
    "\n",
    "r = c.predict(x_test)\n",
    "print(accuracy_score(y_test, r))\n",
    "\n",
    "f = [[int(i) for i in input(\"Enter 2\").split()]]\n",
    "f = pd.DataFrame(f).astype(float)\n",
    "\n",
    "z = c.predict(f)\n",
    "\n",
    "if z == 0:\n",
    "    print(\"no\")\n",
    "else:\n",
    "    print(\"dddd\")\n",
    "    "
   ]
  }
 ],
 "metadata": {
  "kernelspec": {
   "display_name": "Python 3",
   "language": "python",
   "name": "python3"
  },
  "language_info": {
   "codemirror_mode": {
    "name": "ipython",
    "version": 3
   },
   "file_extension": ".py",
   "mimetype": "text/x-python",
   "name": "python",
   "nbconvert_exporter": "python",
   "pygments_lexer": "ipython3",
   "version": "3.12.0"
  }
 },
 "nbformat": 4,
 "nbformat_minor": 2
}
