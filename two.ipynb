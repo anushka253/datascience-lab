{
 "cells": [
  {
   "cell_type": "code",
   "execution_count": null,
   "metadata": {},
   "outputs": [],
   "source": [
    "# Write  Python  program  to  create  two  matrices  (read  values  from  user)  and  find  the  following\n",
    "# 1.  Dot  Product\n",
    "# 2.  Transpose\n",
    "# 3.  Trace\n",
    "# 4.  Rank\n",
    "# 5.  Determinant\n",
    "# 6.  Inverse\n",
    "# 7.  Eigenvalues  and  eigenvectors"
   ]
  },
  {
   "cell_type": "code",
   "execution_count": 2,
   "metadata": {},
   "outputs": [],
   "source": [
    "import numpy as np\n"
   ]
  },
  {
   "cell_type": "code",
   "execution_count": 11,
   "metadata": {},
   "outputs": [
    {
     "name": "stdout",
     "output_type": "stream",
     "text": [
      "[[1 2]\n",
      " [3 4]]\n",
      "[]\n"
     ]
    }
   ],
   "source": [
    "#WRONG!!!\n",
    "r=int(input(\"Enter row=\"))\n",
    "c=int(input(\"Enter col=\"))\n",
    "m=list(map(int,input().split()))\n",
    "x=np.array(m).reshape(r,c)\n",
    "\n",
    "print(x)\n",
    "n=list(map(int,input().split()))\n",
    "print(n)"
   ]
  },
  {
   "cell_type": "code",
   "execution_count": 5,
   "metadata": {},
   "outputs": [
    {
     "name": "stdout",
     "output_type": "stream",
     "text": [
      "Dot product =\n",
      "32\n"
     ]
    }
   ],
   "source": [
    "# 1.  Dot  Product\n",
    "print(\"Dot product =\")\n",
    "print(np.dot(m,n))"
   ]
  },
  {
   "cell_type": "code",
   "execution_count": 8,
   "metadata": {},
   "outputs": [],
   "source": [
    "x=[]\n",
    "r=int(input(\"Enter row=\"))\n",
    "c=int(input(\"Enter col=\"))\n",
    "for i in range(r):\n",
    "    for j in range(c):\n",
    "        y=int(input(\"enter elemt:\"))\n",
    "        x.append(y)\n",
    "\n"
   ]
  },
  {
   "cell_type": "code",
   "execution_count": 9,
   "metadata": {},
   "outputs": [
    {
     "name": "stdout",
     "output_type": "stream",
     "text": [
      "[1, 2, 3, 4]\n"
     ]
    }
   ],
   "source": [
    "print(x)"
   ]
  },
  {
   "cell_type": "code",
   "execution_count": 12,
   "metadata": {},
   "outputs": [],
   "source": [
    "#CORRECT!!!!!!!!!!\n",
    "#creating 2d array from user in numpy\n",
    "r=int(input(\"Enter row=\"))\n",
    "c=int(input(\"Enter col=\"))\n",
    "m=list(map(int,input().split()))\n",
    "x=np.array(m).reshape(r,c)\n",
    "\n",
    "r1=int(input(\"Enter row=\"))\n",
    "c1=int(input(\"Enter col=\"))\n",
    "m1=list(map(int,input().split()))\n",
    "x1=np.array(m1).reshape(r1,c1)"
   ]
  },
  {
   "cell_type": "code",
   "execution_count": 13,
   "metadata": {},
   "outputs": [
    {
     "name": "stdout",
     "output_type": "stream",
     "text": [
      "[[1 2]\n",
      " [3 4]]\n",
      "[[5 6]\n",
      " [7 8]]\n"
     ]
    }
   ],
   "source": [
    "print(x)\n",
    "print(x1)"
   ]
  },
  {
   "cell_type": "code",
   "execution_count": 16,
   "metadata": {},
   "outputs": [
    {
     "name": "stdout",
     "output_type": "stream",
     "text": [
      "[[19 22]\n",
      " [43 50]]\n",
      "[[ 5 12]\n",
      " [21 32]]\n",
      "[[ 5 12]\n",
      " [21 32]]\n"
     ]
    }
   ],
   "source": [
    "#dot \n",
    "#dot and multiply are diffrent\n",
    "print(np.dot(x,x1))\n",
    "print(x*x1)\n",
    "print(np.multiply(x,x1))"
   ]
  },
  {
   "cell_type": "code",
   "execution_count": 24,
   "metadata": {},
   "outputs": [
    {
     "name": "stdout",
     "output_type": "stream",
     "text": [
      "[[1 3]\n",
      " [2 4]]\n",
      "[[5 7]\n",
      " [6 8]]\n",
      "[[1 3]\n",
      " [2 4]]\n"
     ]
    }
   ],
   "source": [
    "# 2.  Transpose\n",
    "print(np.transpose(x))\n",
    "print(np.transpose(x1))\n"
   ]
  },
  {
   "cell_type": "code",
   "execution_count": 23,
   "metadata": {},
   "outputs": [
    {
     "name": "stdout",
     "output_type": "stream",
     "text": [
      "[[1 2]\n",
      " [3 4]]\n",
      "5\n",
      "[[5 6]\n",
      " [7 8]]\n",
      "13\n"
     ]
    }
   ],
   "source": [
    "# 3.  Trace\n",
    "\n",
    "print(x)\n",
    "print(np.trace(x))\n",
    "print(x1)\n",
    "print(np.trace(x1))\n",
    "#sum of its diagnols"
   ]
  },
  {
   "cell_type": "code",
   "execution_count": 31,
   "metadata": {},
   "outputs": [
    {
     "name": "stdout",
     "output_type": "stream",
     "text": [
      "2\n",
      "2\n",
      "2\n"
     ]
    }
   ],
   "source": [
    "# 4.  Rank\n",
    "s=np.arange(10).reshape(2,5)\n",
    "print(np.linalg.matrix_rank(s))\n",
    "print(np.linalg.matrix_rank(x))\n",
    "print(np.linalg.matrix_rank(x1))\n",
    "#a rank(A) = min(m, n), where m is the number of rows and n is the number of columns."
   ]
  },
  {
   "cell_type": "code",
   "execution_count": 27,
   "metadata": {},
   "outputs": [
    {
     "name": "stdout",
     "output_type": "stream",
     "text": [
      "-2.0000000000000004\n",
      "-2.000000000000005\n"
     ]
    }
   ],
   "source": [
    "# 5.  Determinant\n",
    "print(np.linalg.det(x))\n",
    "print(np.linalg.det(x1))\n",
    "\n",
    "# The determinant of a matrix is a special number that can be calculated from a square matrix1. It is denoted as det(A), det A, or |A| where A is any square matrix2. The determinant of a matrix is the sum of products of the elements of any row or column and their corresponding co-factors34.\n",
    "\n",
    "# For a 2x2 matrix, the determinant can be calculated as follows:\n",
    "\n",
    "# If A = [a b; c d], then det(A) = ad - bc1.\n",
    "\n",
    "# For a 3x3 matrix, the determinant can be calculated as follows:\n",
    "\n",
    "# If A = [a b c; d e f; g h i], then det(A) = a(ei - fh) - b(di - fg) + c(dh - eg)1"
   ]
  },
  {
   "cell_type": "code",
   "execution_count": 28,
   "metadata": {},
   "outputs": [
    {
     "name": "stdout",
     "output_type": "stream",
     "text": [
      "[[-2.   1. ]\n",
      " [ 1.5 -0.5]]\n",
      "[[-4.   3. ]\n",
      " [ 3.5 -2.5]]\n"
     ]
    }
   ],
   "source": [
    "# 6.  Inverse\n",
    "print(np.linalg.inv(x))\n",
    "print(np.linalg.inv(x1))"
   ]
  },
  {
   "cell_type": "code",
   "execution_count": 29,
   "metadata": {},
   "outputs": [
    {
     "name": "stdout",
     "output_type": "stream",
     "text": [
      "EigResult(eigenvalues=array([-0.37228132,  5.37228132]), eigenvectors=array([[-0.82456484, -0.41597356],\n",
      "       [ 0.56576746, -0.90937671]]))\n",
      "EigResult(eigenvalues=array([-0.15206735, 13.15206735]), eigenvectors=array([[-0.75868086, -0.59276441],\n",
      "       [ 0.65146248, -0.80537591]]))\n"
     ]
    }
   ],
   "source": [
    "# 7.  Eigenvalues  and  eigenvectors\n",
    "print(np.linalg.eig(x))\n",
    "print(np.linalg.eig(x1))"
   ]
  }
 ],
 "metadata": {
  "kernelspec": {
   "display_name": "Python 3",
   "language": "python",
   "name": "python3"
  },
  "language_info": {
   "codemirror_mode": {
    "name": "ipython",
    "version": 3
   },
   "file_extension": ".py",
   "mimetype": "text/x-python",
   "name": "python",
   "nbconvert_exporter": "python",
   "pygments_lexer": "ipython3",
   "version": "3.12.0"
  }
 },
 "nbformat": 4,
 "nbformat_minor": 2
}
